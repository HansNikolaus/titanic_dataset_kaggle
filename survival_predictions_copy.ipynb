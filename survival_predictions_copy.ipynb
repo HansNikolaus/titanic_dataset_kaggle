{
 "cells": [
  {
   "cell_type": "markdown",
   "metadata": {},
   "source": [
    "# Titanic Kaggle Dataset Challenge"
   ]
  },
  {
   "cell_type": "markdown",
   "metadata": {},
   "source": [
    "## Data Loading"
   ]
  },
  {
   "cell_type": "code",
   "execution_count": 1,
   "metadata": {},
   "outputs": [],
   "source": [
    "import pandas as pd\n",
    "\n",
    "import matplotlib.pyplot as plt\n",
    "\n",
    "import seaborn as sns\n",
    "\n",
    "import numpy as np"
   ]
  },
  {
   "cell_type": "code",
   "execution_count": 2,
   "metadata": {},
   "outputs": [
    {
     "name": "stdout",
     "output_type": "stream",
     "text": [
      "Requirement already satisfied: scikit-learn in c:\\users\\root\\anaconda3\\lib\\site-packages (1.6.1)\n",
      "Requirement already satisfied: numpy>=1.19.5 in c:\\users\\root\\anaconda3\\lib\\site-packages (from scikit-learn) (1.26.4)\n",
      "Requirement already satisfied: scipy>=1.6.0 in c:\\users\\root\\anaconda3\\lib\\site-packages (from scikit-learn) (1.13.1)\n",
      "Requirement already satisfied: joblib>=1.2.0 in c:\\users\\root\\anaconda3\\lib\\site-packages (from scikit-learn) (1.4.2)\n",
      "Requirement already satisfied: threadpoolctl>=3.1.0 in c:\\users\\root\\anaconda3\\lib\\site-packages (from scikit-learn) (3.5.0)\n"
     ]
    }
   ],
   "source": [
    "!pip install -U scikit-learn"
   ]
  },
  {
   "cell_type": "code",
   "execution_count": 3,
   "metadata": {},
   "outputs": [],
   "source": [
    "gender_submission = pd.read_csv('gender_submission.csv')\n",
    "\n",
    "test = pd.read_csv('test.csv')\n",
    "\n",
    "train = pd.read_csv('train.csv')"
   ]
  },
  {
   "cell_type": "code",
   "execution_count": 4,
   "metadata": {},
   "outputs": [
    {
     "name": "stdout",
     "output_type": "stream",
     "text": [
      "<class 'pandas.core.frame.DataFrame'>\n",
      "RangeIndex: 418 entries, 0 to 417\n",
      "Data columns (total 2 columns):\n",
      " #   Column       Non-Null Count  Dtype\n",
      "---  ------       --------------  -----\n",
      " 0   PassengerId  418 non-null    int64\n",
      " 1   Survived     418 non-null    int64\n",
      "dtypes: int64(2)\n",
      "memory usage: 6.7 KB\n"
     ]
    }
   ],
   "source": [
    "gender_submission.info()"
   ]
  },
  {
   "cell_type": "code",
   "execution_count": 5,
   "metadata": {},
   "outputs": [
    {
     "name": "stdout",
     "output_type": "stream",
     "text": [
      "<class 'pandas.core.frame.DataFrame'>\n",
      "RangeIndex: 418 entries, 0 to 417\n",
      "Data columns (total 11 columns):\n",
      " #   Column       Non-Null Count  Dtype  \n",
      "---  ------       --------------  -----  \n",
      " 0   PassengerId  418 non-null    int64  \n",
      " 1   Pclass       418 non-null    int64  \n",
      " 2   Name         418 non-null    object \n",
      " 3   Sex          418 non-null    object \n",
      " 4   Age          332 non-null    float64\n",
      " 5   SibSp        418 non-null    int64  \n",
      " 6   Parch        418 non-null    int64  \n",
      " 7   Ticket       418 non-null    object \n",
      " 8   Fare         417 non-null    float64\n",
      " 9   Cabin        91 non-null     object \n",
      " 10  Embarked     418 non-null    object \n",
      "dtypes: float64(2), int64(4), object(5)\n",
      "memory usage: 36.1+ KB\n"
     ]
    }
   ],
   "source": [
    "test.info()"
   ]
  },
  {
   "cell_type": "code",
   "execution_count": 6,
   "metadata": {},
   "outputs": [
    {
     "name": "stdout",
     "output_type": "stream",
     "text": [
      "<class 'pandas.core.frame.DataFrame'>\n",
      "RangeIndex: 891 entries, 0 to 890\n",
      "Data columns (total 12 columns):\n",
      " #   Column       Non-Null Count  Dtype  \n",
      "---  ------       --------------  -----  \n",
      " 0   PassengerId  891 non-null    int64  \n",
      " 1   Survived     891 non-null    int64  \n",
      " 2   Pclass       891 non-null    int64  \n",
      " 3   Name         891 non-null    object \n",
      " 4   Sex          891 non-null    object \n",
      " 5   Age          714 non-null    float64\n",
      " 6   SibSp        891 non-null    int64  \n",
      " 7   Parch        891 non-null    int64  \n",
      " 8   Ticket       891 non-null    object \n",
      " 9   Fare         891 non-null    float64\n",
      " 10  Cabin        204 non-null    object \n",
      " 11  Embarked     889 non-null    object \n",
      "dtypes: float64(2), int64(5), object(5)\n",
      "memory usage: 83.7+ KB\n"
     ]
    }
   ],
   "source": [
    "train.info()"
   ]
  },
  {
   "cell_type": "markdown",
   "metadata": {},
   "source": [
    "## EDA "
   ]
  },
  {
   "cell_type": "code",
   "execution_count": 7,
   "metadata": {},
   "outputs": [
    {
     "data": {
      "application/vnd.microsoft.datawrangler.viewer.v0+json": {
       "columns": [
        {
         "name": "index",
         "rawType": "object",
         "type": "string"
        },
        {
         "name": "PassengerId",
         "rawType": "float64",
         "type": "float"
        },
        {
         "name": "Survived",
         "rawType": "float64",
         "type": "float"
        },
        {
         "name": "Pclass",
         "rawType": "float64",
         "type": "float"
        },
        {
         "name": "Age",
         "rawType": "float64",
         "type": "float"
        },
        {
         "name": "SibSp",
         "rawType": "float64",
         "type": "float"
        },
        {
         "name": "Parch",
         "rawType": "float64",
         "type": "float"
        },
        {
         "name": "Fare",
         "rawType": "float64",
         "type": "float"
        }
       ],
       "conversionMethod": "pd.DataFrame",
       "ref": "e59f6298-deec-4c94-af35-f7fee2b3aa43",
       "rows": [
        [
         "count",
         "891.0",
         "891.0",
         "891.0",
         "714.0",
         "891.0",
         "891.0",
         "891.0"
        ],
        [
         "mean",
         "446.0",
         "0.3838383838383838",
         "2.308641975308642",
         "29.69911764705882",
         "0.5230078563411896",
         "0.38159371492704824",
         "32.204207968574636"
        ],
        [
         "std",
         "257.3538420152301",
         "0.4865924542648585",
         "0.8360712409770513",
         "14.526497332334044",
         "1.1027434322934275",
         "0.8060572211299559",
         "49.693428597180905"
        ],
        [
         "min",
         "1.0",
         "0.0",
         "1.0",
         "0.42",
         "0.0",
         "0.0",
         "0.0"
        ],
        [
         "25%",
         "223.5",
         "0.0",
         "2.0",
         "20.125",
         "0.0",
         "0.0",
         "7.9104"
        ],
        [
         "50%",
         "446.0",
         "0.0",
         "3.0",
         "28.0",
         "0.0",
         "0.0",
         "14.4542"
        ],
        [
         "75%",
         "668.5",
         "1.0",
         "3.0",
         "38.0",
         "1.0",
         "0.0",
         "31.0"
        ],
        [
         "max",
         "891.0",
         "1.0",
         "3.0",
         "80.0",
         "8.0",
         "6.0",
         "512.3292"
        ]
       ],
       "shape": {
        "columns": 7,
        "rows": 8
       }
      },
      "text/html": [
       "<div>\n",
       "<style scoped>\n",
       "    .dataframe tbody tr th:only-of-type {\n",
       "        vertical-align: middle;\n",
       "    }\n",
       "\n",
       "    .dataframe tbody tr th {\n",
       "        vertical-align: top;\n",
       "    }\n",
       "\n",
       "    .dataframe thead th {\n",
       "        text-align: right;\n",
       "    }\n",
       "</style>\n",
       "<table border=\"1\" class=\"dataframe\">\n",
       "  <thead>\n",
       "    <tr style=\"text-align: right;\">\n",
       "      <th></th>\n",
       "      <th>PassengerId</th>\n",
       "      <th>Survived</th>\n",
       "      <th>Pclass</th>\n",
       "      <th>Age</th>\n",
       "      <th>SibSp</th>\n",
       "      <th>Parch</th>\n",
       "      <th>Fare</th>\n",
       "    </tr>\n",
       "  </thead>\n",
       "  <tbody>\n",
       "    <tr>\n",
       "      <th>count</th>\n",
       "      <td>891.000000</td>\n",
       "      <td>891.000000</td>\n",
       "      <td>891.000000</td>\n",
       "      <td>714.000000</td>\n",
       "      <td>891.000000</td>\n",
       "      <td>891.000000</td>\n",
       "      <td>891.000000</td>\n",
       "    </tr>\n",
       "    <tr>\n",
       "      <th>mean</th>\n",
       "      <td>446.000000</td>\n",
       "      <td>0.383838</td>\n",
       "      <td>2.308642</td>\n",
       "      <td>29.699118</td>\n",
       "      <td>0.523008</td>\n",
       "      <td>0.381594</td>\n",
       "      <td>32.204208</td>\n",
       "    </tr>\n",
       "    <tr>\n",
       "      <th>std</th>\n",
       "      <td>257.353842</td>\n",
       "      <td>0.486592</td>\n",
       "      <td>0.836071</td>\n",
       "      <td>14.526497</td>\n",
       "      <td>1.102743</td>\n",
       "      <td>0.806057</td>\n",
       "      <td>49.693429</td>\n",
       "    </tr>\n",
       "    <tr>\n",
       "      <th>min</th>\n",
       "      <td>1.000000</td>\n",
       "      <td>0.000000</td>\n",
       "      <td>1.000000</td>\n",
       "      <td>0.420000</td>\n",
       "      <td>0.000000</td>\n",
       "      <td>0.000000</td>\n",
       "      <td>0.000000</td>\n",
       "    </tr>\n",
       "    <tr>\n",
       "      <th>25%</th>\n",
       "      <td>223.500000</td>\n",
       "      <td>0.000000</td>\n",
       "      <td>2.000000</td>\n",
       "      <td>20.125000</td>\n",
       "      <td>0.000000</td>\n",
       "      <td>0.000000</td>\n",
       "      <td>7.910400</td>\n",
       "    </tr>\n",
       "    <tr>\n",
       "      <th>50%</th>\n",
       "      <td>446.000000</td>\n",
       "      <td>0.000000</td>\n",
       "      <td>3.000000</td>\n",
       "      <td>28.000000</td>\n",
       "      <td>0.000000</td>\n",
       "      <td>0.000000</td>\n",
       "      <td>14.454200</td>\n",
       "    </tr>\n",
       "    <tr>\n",
       "      <th>75%</th>\n",
       "      <td>668.500000</td>\n",
       "      <td>1.000000</td>\n",
       "      <td>3.000000</td>\n",
       "      <td>38.000000</td>\n",
       "      <td>1.000000</td>\n",
       "      <td>0.000000</td>\n",
       "      <td>31.000000</td>\n",
       "    </tr>\n",
       "    <tr>\n",
       "      <th>max</th>\n",
       "      <td>891.000000</td>\n",
       "      <td>1.000000</td>\n",
       "      <td>3.000000</td>\n",
       "      <td>80.000000</td>\n",
       "      <td>8.000000</td>\n",
       "      <td>6.000000</td>\n",
       "      <td>512.329200</td>\n",
       "    </tr>\n",
       "  </tbody>\n",
       "</table>\n",
       "</div>"
      ],
      "text/plain": [
       "       PassengerId    Survived      Pclass         Age       SibSp  \\\n",
       "count   891.000000  891.000000  891.000000  714.000000  891.000000   \n",
       "mean    446.000000    0.383838    2.308642   29.699118    0.523008   \n",
       "std     257.353842    0.486592    0.836071   14.526497    1.102743   \n",
       "min       1.000000    0.000000    1.000000    0.420000    0.000000   \n",
       "25%     223.500000    0.000000    2.000000   20.125000    0.000000   \n",
       "50%     446.000000    0.000000    3.000000   28.000000    0.000000   \n",
       "75%     668.500000    1.000000    3.000000   38.000000    1.000000   \n",
       "max     891.000000    1.000000    3.000000   80.000000    8.000000   \n",
       "\n",
       "            Parch        Fare  \n",
       "count  891.000000  891.000000  \n",
       "mean     0.381594   32.204208  \n",
       "std      0.806057   49.693429  \n",
       "min      0.000000    0.000000  \n",
       "25%      0.000000    7.910400  \n",
       "50%      0.000000   14.454200  \n",
       "75%      0.000000   31.000000  \n",
       "max      6.000000  512.329200  "
      ]
     },
     "execution_count": 7,
     "metadata": {},
     "output_type": "execute_result"
    }
   ],
   "source": [
    "train.describe()"
   ]
  },
  {
   "cell_type": "code",
   "execution_count": 8,
   "metadata": {},
   "outputs": [
    {
     "data": {
      "text/plain": [
       "Sex\n",
       "male      577\n",
       "female    314\n",
       "Name: count, dtype: int64"
      ]
     },
     "execution_count": 8,
     "metadata": {},
     "output_type": "execute_result"
    }
   ],
   "source": [
    "train['Sex'].value_counts()"
   ]
  },
  {
   "cell_type": "code",
   "execution_count": 9,
   "metadata": {},
   "outputs": [
    {
     "data": {
      "text/plain": [
       "0       NaN\n",
       "1       C85\n",
       "2       NaN\n",
       "3      C123\n",
       "4       NaN\n",
       "       ... \n",
       "886     NaN\n",
       "887     B42\n",
       "888     NaN\n",
       "889    C148\n",
       "890     NaN\n",
       "Name: Cabin, Length: 891, dtype: object"
      ]
     },
     "execution_count": 9,
     "metadata": {},
     "output_type": "execute_result"
    }
   ],
   "source": [
    "train['Cabin']"
   ]
  },
  {
   "cell_type": "code",
   "execution_count": 10,
   "metadata": {},
   "outputs": [
    {
     "data": {
      "text/plain": [
       "0             A/5 21171\n",
       "1              PC 17599\n",
       "2      STON/O2. 3101282\n",
       "3                113803\n",
       "4                373450\n",
       "             ...       \n",
       "886              211536\n",
       "887              112053\n",
       "888          W./C. 6607\n",
       "889              111369\n",
       "890              370376\n",
       "Name: Ticket, Length: 891, dtype: object"
      ]
     },
     "execution_count": 10,
     "metadata": {},
     "output_type": "execute_result"
    }
   ],
   "source": [
    "train['Ticket']"
   ]
  },
  {
   "cell_type": "code",
   "execution_count": 11,
   "metadata": {},
   "outputs": [
    {
     "data": {
      "text/plain": [
       "Embarked\n",
       "S    644\n",
       "C    168\n",
       "Q     77\n",
       "Name: count, dtype: int64"
      ]
     },
     "execution_count": 11,
     "metadata": {},
     "output_type": "execute_result"
    }
   ],
   "source": [
    "train['Embarked'].value_counts()"
   ]
  },
  {
   "cell_type": "code",
   "execution_count": 12,
   "metadata": {},
   "outputs": [
    {
     "data": {
      "text/plain": [
       "SibSp\n",
       "0    608\n",
       "1    209\n",
       "2     28\n",
       "4     18\n",
       "3     16\n",
       "8      7\n",
       "5      5\n",
       "Name: count, dtype: int64"
      ]
     },
     "execution_count": 12,
     "metadata": {},
     "output_type": "execute_result"
    }
   ],
   "source": [
    "train['SibSp'].value_counts()"
   ]
  },
  {
   "cell_type": "code",
   "execution_count": 13,
   "metadata": {},
   "outputs": [
    {
     "data": {
      "text/plain": [
       "0                                Braund, Mr. Owen Harris\n",
       "1      Cumings, Mrs. John Bradley (Florence Briggs Th...\n",
       "2                                 Heikkinen, Miss. Laina\n",
       "3           Futrelle, Mrs. Jacques Heath (Lily May Peel)\n",
       "4                               Allen, Mr. William Henry\n",
       "                             ...                        \n",
       "886                                Montvila, Rev. Juozas\n",
       "887                         Graham, Miss. Margaret Edith\n",
       "888             Johnston, Miss. Catherine Helen \"Carrie\"\n",
       "889                                Behr, Mr. Karl Howell\n",
       "890                                  Dooley, Mr. Patrick\n",
       "Name: Name, Length: 891, dtype: object"
      ]
     },
     "execution_count": 13,
     "metadata": {},
     "output_type": "execute_result"
    }
   ],
   "source": [
    "train['Name']"
   ]
  },
  {
   "cell_type": "code",
   "execution_count": 14,
   "metadata": {},
   "outputs": [
    {
     "data": {
      "text/plain": [
       "Parch\n",
       "0    678\n",
       "1    118\n",
       "2     80\n",
       "5      5\n",
       "3      5\n",
       "4      4\n",
       "6      1\n",
       "Name: count, dtype: int64"
      ]
     },
     "execution_count": 14,
     "metadata": {},
     "output_type": "execute_result"
    }
   ],
   "source": [
    "train['Parch'].value_counts()"
   ]
  },
  {
   "cell_type": "markdown",
   "metadata": {},
   "source": [
    "## Feature Engineering"
   ]
  },
  {
   "cell_type": "markdown",
   "metadata": {},
   "source": [
    "#### Ticket"
   ]
  },
  {
   "cell_type": "markdown",
   "metadata": {},
   "source": [
    "Goal: To create a Ticket_Type column which displays whether the ticket beigns with a number or letter. I saw a pattern that some tickets began with a letter combination followed by numbers while some began simply with numbers. This pattern could be useful for our machine learning alogrithms to learn more about the passengers and their survivability.\n",
    "\n",
    "Reason: The Ticket column contained unique values which were unsuited for our machine leanring algorithms to learn from. By simplfying the tickets into 2 values we may instead gain a valuable tool for predicting passenger's surviability. Essentially I want to reduce noise from numerous unique ticket prefixes/values while still capturing meaningful distinctions."
   ]
  },
  {
   "cell_type": "code",
   "execution_count": 15,
   "metadata": {},
   "outputs": [],
   "source": [
    "# Updated function to simplify Ticket_Type\n",
    "def determine_ticket_type(ticket):\n",
    "    if ticket[0].isalpha():  # Check if the first character is a letter\n",
    "        return 1  # Assign 1 for tickets starting with a letter\n",
    "    else:\n",
    "        return 0  # Assign 0 for tickets starting with a number\n",
    "\n",
    "# Create the Ticket_Type column in the train DataFrame\n",
    "train['Ticket_Type'] = train['Ticket'].apply(determine_ticket_type)"
   ]
  },
  {
   "cell_type": "code",
   "execution_count": 16,
   "metadata": {},
   "outputs": [
    {
     "data": {
      "text/plain": [
       "Ticket_Type\n",
       "0    661\n",
       "1    230\n",
       "Name: count, dtype: int64"
      ]
     },
     "execution_count": 16,
     "metadata": {},
     "output_type": "execute_result"
    }
   ],
   "source": [
    "train['Ticket_Type'].value_counts()"
   ]
  },
  {
   "cell_type": "markdown",
   "metadata": {},
   "source": [
    "#### Title Column"
   ]
  },
  {
   "cell_type": "markdown",
   "metadata": {},
   "source": [
    "Goal: To create a Title column which displays the passenger's title. I noticed that in the Name column, the titles were often followed by the passenger's name. This pattern could be useful for our machine learning alogrithms to learn more about the passengers and their survivability.\n",
    "\n",
    "Reason: The Name column contained unique values which were unsuited for our machine leanring algorithms to learn from. By extracting the titles from the names, we may instead gain a valuable tool for predicting passenger's surviability. Essentially I want to reduce noise from numerous unique title prefixes/values while still capturing meaningful distinctions."
   ]
  },
  {
   "cell_type": "code",
   "execution_count": 17,
   "metadata": {},
   "outputs": [
    {
     "name": "stderr",
     "output_type": "stream",
     "text": [
      "<>:2: SyntaxWarning: invalid escape sequence '\\.'\n",
      "<>:2: SyntaxWarning: invalid escape sequence '\\.'\n",
      "C:\\Users\\root\\AppData\\Local\\Temp\\ipykernel_7524\\1705106760.py:2: SyntaxWarning: invalid escape sequence '\\.'\n",
      "  train['Title'] = train['Name'].str.extract(' ([A-Za-z]+)\\.', expand=False)\n"
     ]
    }
   ],
   "source": [
    "#Creation of Title column from Name column\n",
    "train['Title'] = train['Name'].str.extract(' ([A-Za-z]+)\\.', expand=False)"
   ]
  },
  {
   "cell_type": "code",
   "execution_count": 18,
   "metadata": {},
   "outputs": [
    {
     "data": {
      "text/plain": [
       "0         Mr\n",
       "1        Mrs\n",
       "2       Miss\n",
       "3        Mrs\n",
       "4         Mr\n",
       "5         Mr\n",
       "6         Mr\n",
       "7     Master\n",
       "8        Mrs\n",
       "9        Mrs\n",
       "10      Miss\n",
       "11      Miss\n",
       "12        Mr\n",
       "13        Mr\n",
       "14      Miss\n",
       "15       Mrs\n",
       "16    Master\n",
       "17        Mr\n",
       "18       Mrs\n",
       "19       Mrs\n",
       "20        Mr\n",
       "21        Mr\n",
       "22      Miss\n",
       "23        Mr\n",
       "24      Miss\n",
       "Name: Title, dtype: object"
      ]
     },
     "execution_count": 18,
     "metadata": {},
     "output_type": "execute_result"
    }
   ],
   "source": [
    "train['Title'].head(25)"
   ]
  },
  {
   "cell_type": "code",
   "execution_count": 19,
   "metadata": {},
   "outputs": [
    {
     "data": {
      "text/plain": [
       "Title\n",
       "Mr          517\n",
       "Miss        182\n",
       "Mrs         125\n",
       "Master       40\n",
       "Dr            7\n",
       "Rev           6\n",
       "Mlle          2\n",
       "Major         2\n",
       "Col           2\n",
       "Countess      1\n",
       "Capt          1\n",
       "Ms            1\n",
       "Sir           1\n",
       "Lady          1\n",
       "Mme           1\n",
       "Don           1\n",
       "Jonkheer      1\n",
       "Name: count, dtype: int64"
      ]
     },
     "execution_count": 19,
     "metadata": {},
     "output_type": "execute_result"
    }
   ],
   "source": [
    "#Checking the values and counts in the Title column\n",
    "\n",
    "train['Title'].value_counts()"
   ]
  },
  {
   "cell_type": "code",
   "execution_count": 20,
   "metadata": {},
   "outputs": [],
   "source": [
    "train['Title'] = train['Title'].replace(['Mlle', 'Ms'], 'Miss')\n",
    "\n",
    "train['Title'] = train['Title'].replace(['Major', 'Col', 'Capt'], 'Military')\n",
    "\n",
    "train['Title'] = train['Title'].replace(['Countess', 'Sir', 'Lady', 'Don', 'Jonkheer'], 'Nobility')\n",
    "\n",
    "train['Title'] = train['Title'].replace('Mme', 'Mrs')"
   ]
  },
  {
   "cell_type": "code",
   "execution_count": 21,
   "metadata": {},
   "outputs": [
    {
     "data": {
      "text/plain": [
       "Title\n",
       "Mr          517\n",
       "Miss        185\n",
       "Mrs         126\n",
       "Master       40\n",
       "Dr            7\n",
       "Rev           6\n",
       "Nobility      5\n",
       "Military      5\n",
       "Name: count, dtype: int64"
      ]
     },
     "execution_count": 21,
     "metadata": {},
     "output_type": "execute_result"
    }
   ],
   "source": [
    "#Checking once more the values and counts in the Title column\n",
    "\n",
    "train['Title'].value_counts()"
   ]
  },
  {
   "cell_type": "markdown",
   "metadata": {},
   "source": [
    "#### Maiden Name Column"
   ]
  },
  {
   "cell_type": "markdown",
   "metadata": {},
   "source": [
    "Goal: To create a Maiden column which extracts passenger's maiden name from the Name column.\n",
    "\n",
    "Reason: To match families onboard the Titanic more accurately."
   ]
  },
  {
   "cell_type": "code",
   "execution_count": 22,
   "metadata": {},
   "outputs": [],
   "source": [
    "def extract_maiden_name(row):\n",
    "    # Check if the 'Title' field is 'Mrs'\n",
    "    if isinstance(row['Title'], str) and 'Mrs' in row['Title']:\n",
    "        # Extract the last word from the 'Name' field and remove any trailing ')'\n",
    "        maiden_name = row['Name'].split()[-1].strip(')')\n",
    "        return maiden_name\n",
    "    return 'None'\n",
    "\n",
    "# Apply the function to create a new 'Maiden' column\n",
    "train['Maiden'] = train.apply(extract_maiden_name, axis=1)\n"
   ]
  },
  {
   "cell_type": "code",
   "execution_count": 23,
   "metadata": {},
   "outputs": [
    {
     "data": {
      "text/plain": [
       "0        None\n",
       "1      Thayer\n",
       "2        None\n",
       "3        Peel\n",
       "4        None\n",
       "        ...  \n",
       "886      None\n",
       "887      None\n",
       "888      None\n",
       "889      None\n",
       "890      None\n",
       "Name: Maiden, Length: 891, dtype: object"
      ]
     },
     "execution_count": 23,
     "metadata": {},
     "output_type": "execute_result"
    }
   ],
   "source": [
    "train['Maiden']"
   ]
  },
  {
   "cell_type": "markdown",
   "metadata": {},
   "source": [
    "#### Surname Column"
   ]
  },
  {
   "cell_type": "markdown",
   "metadata": {},
   "source": [
    "Goal: To create a Surname column which extracts passenger's surname from the Name column.\n",
    "\n",
    "Reason: To match families onboard the Titanic more accurately."
   ]
  },
  {
   "cell_type": "code",
   "execution_count": 24,
   "metadata": {},
   "outputs": [],
   "source": [
    "# Create a new column 'Surname' by extracting the first word from the 'Name' column and removing trailing commas\n",
    "train['Surname'] = train['Name'].apply(lambda name: name.split()[0].rstrip(','))"
   ]
  },
  {
   "cell_type": "code",
   "execution_count": 25,
   "metadata": {},
   "outputs": [
    {
     "data": {
      "text/plain": [
       "0         Braund\n",
       "1        Cumings\n",
       "2      Heikkinen\n",
       "3       Futrelle\n",
       "4          Allen\n",
       "         ...    \n",
       "886     Montvila\n",
       "887       Graham\n",
       "888     Johnston\n",
       "889         Behr\n",
       "890       Dooley\n",
       "Name: Surname, Length: 891, dtype: object"
      ]
     },
     "execution_count": 25,
     "metadata": {},
     "output_type": "execute_result"
    }
   ],
   "source": [
    "train['Surname']"
   ]
  },
  {
   "cell_type": "markdown",
   "metadata": {},
   "source": [
    "#### Creation of Family Column"
   ]
  },
  {
   "cell_type": "markdown",
   "metadata": {},
   "source": [
    "Goal: Create a family column to match families on board the Titanic effectively\n",
    "\n",
    "Reason: To perhaps provide an important tool for our machine learning algorithms to predict passenger survivability."
   ]
  },
  {
   "cell_type": "code",
   "execution_count": 26,
   "metadata": {},
   "outputs": [],
   "source": [
    "def determine_family(row, train):\n",
    "    # Check if the passenger has any family members (Parch or SibSp > 0)\n",
    "    if row['Parch'] > 0 or row['SibSp'] > 0:\n",
    "        # Start with Surname\n",
    "        family_name = row['Surname']\n",
    "        # Check if there are other passengers with the same Surname\n",
    "        family_members = train[(train['Surname'] == family_name) & (train.index != row.name)]\n",
    "        if family_members.empty:  # If no other family members with the same Surname\n",
    "            family_name = row['Maiden']  # Use Maiden name\n",
    "    else:\n",
    "        family_name = 'No Family'  # No family found\n",
    "\n",
    "    return family_name\n",
    "\n",
    "# Apply the function to create the 'Family' column\n",
    "train['Family'] = train.apply(lambda row: determine_family(row, train), axis=1)"
   ]
  },
  {
   "cell_type": "code",
   "execution_count": 27,
   "metadata": {},
   "outputs": [
    {
     "data": {
      "text/plain": [
       "0        Braund\n",
       "1        Thayer\n",
       "2     No Family\n",
       "3      Futrelle\n",
       "4     No Family\n",
       "5     No Family\n",
       "6     No Family\n",
       "7       Palsson\n",
       "8       Johnson\n",
       "9        Nasser\n",
       "10    Sandstrom\n",
       "11    No Family\n",
       "12    No Family\n",
       "13    Andersson\n",
       "14    No Family\n",
       "15    No Family\n",
       "16         Rice\n",
       "17    No Family\n",
       "18       Vander\n",
       "19    No Family\n",
       "Name: Family, dtype: object"
      ]
     },
     "execution_count": 27,
     "metadata": {},
     "output_type": "execute_result"
    }
   ],
   "source": [
    "train['Family'].head(20)"
   ]
  },
  {
   "cell_type": "markdown",
   "metadata": {},
   "source": [
    "#### Update Cabin Column"
   ]
  },
  {
   "cell_type": "code",
   "execution_count": 28,
   "metadata": {},
   "outputs": [],
   "source": [
    "#I believe that NA values in the cabin column are because the passenger did not have a cabin, so I will replace them with 'No Cabin'.\n",
    "train['Cabin'] = train['Cabin'].fillna('No Cabin')"
   ]
  },
  {
   "cell_type": "markdown",
   "metadata": {},
   "source": [
    "#### Filling missing Age values"
   ]
  },
  {
   "cell_type": "code",
   "execution_count": 29,
   "metadata": {},
   "outputs": [],
   "source": [
    "# Group by Pclass and calculate the median age for each class\n",
    "median_ages = train.groupby('Pclass')['Age'].median()\n",
    "\n",
    "# Save the median age values to variables\n",
    "median_age_pclass1 = median_ages.loc[1]\n",
    "median_age_pclass2 = median_ages.loc[2]\n",
    "median_age_pclass3 = median_ages.loc[3]\n",
    "\n",
    "# Define a function to fill missing Age values based on Pclass\n",
    "def fill_missing_age(row):\n",
    "    if pd.isnull(row['Age']):\n",
    "        if row['Pclass'] == 1:\n",
    "            return median_age_pclass1\n",
    "        elif row['Pclass'] == 2:\n",
    "            return median_age_pclass2\n",
    "        elif row['Pclass'] == 3:\n",
    "            return median_age_pclass3\n",
    "    else:\n",
    "        return row['Age']\n",
    "\n",
    "# Apply the function to fill missing Age values\n",
    "train['Age'] = train.apply(fill_missing_age, axis=1)"
   ]
  },
  {
   "cell_type": "markdown",
   "metadata": {},
   "source": [
    "#### Categorize Age Values"
   ]
  },
  {
   "cell_type": "markdown",
   "metadata": {},
   "source": [
    "Goal: To create a new column called Age_Group which categorizes passenger ages into reasonably balanced quartiles. Reasonably meaning that each quartile should be somewhat equal in its amount, but importantly still showcases the real distribution of the data as well.\n",
    "\n",
    "Reason: The Machine Learning Algorithms that we will use detect patterns better when the data is balanced, meaning that each Age Group will have a comparable weight within the analysis. Furthermore it simplifies the data. Instead of dealing with continuous values (values which can thoeretically be infintely precise), you can analyze whether being in a particular quartile impacts survival probability. Finally, the reason 4 bins were selected instead of for example 10 or 20 bins is because the risk of overfitting grows as the amount of bins grows. We want the bins to be enough for our Machine Learning algorithms to efectively learn a pattern but not so much that the model learns simply the tiny details of our dataset without being able to effectively generalize about new data. 4 bins provides enough granularity to capture broad patterns while also remaining interpretable."
   ]
  },
  {
   "cell_type": "code",
   "execution_count": 30,
   "metadata": {},
   "outputs": [
    {
     "name": "stdout",
     "output_type": "stream",
     "text": [
      "    Age    Age_Group\n",
      "0  22.0        Young\n",
      "1  38.0       Senior\n",
      "2  26.0  Young Adult\n",
      "3  35.0        Adult\n",
      "4  35.0        Adult\n"
     ]
    }
   ],
   "source": [
    "# Create quantile-based bins for Age\n",
    "train['Age_Group'] = pd.qcut(train['Age'], q=4, labels=['Young', 'Young Adult', 'Adult', 'Senior'])\n",
    "\n",
    "# Inspect the result\n",
    "print(train[['Age', 'Age_Group']].head())"
   ]
  },
  {
   "cell_type": "code",
   "execution_count": 31,
   "metadata": {},
   "outputs": [
    {
     "data": {
      "image/png": "[encoded data removed]",
      "text/plain": [
       "<Figure size 640x480 with 1 Axes>"
      ]
     },
     "metadata": {},
     "output_type": "display_data"
    }
   ],
   "source": [
    "# Plot histogram of Age with original values\n",
    "plt.hist(train['Age'].dropna(), bins=30, edgecolor='black', alpha=0.7, label='Original Age')\n",
    "\n",
    "# Add vertical lines for bin edges based on quantiles\n",
    "quantile_edges = train['Age'].quantile([0.25, 0.5, 0.75]).values  # Quartiles (25%, 50%, 75%)\n",
    "for edge in quantile_edges:\n",
    "    plt.axvline(edge, color='red', linestyle='--', label='Quantile Edge')\n",
    "\n",
    "# Customize and display the plot\n",
    "plt.title('Age Distribution with Quantile-Based Bins')\n",
    "plt.xlabel('Age')\n",
    "plt.ylabel('Frequency')\n",
    "plt.legend()\n",
    "plt.show()"
   ]
  },
  {
   "cell_type": "code",
   "execution_count": 32,
   "metadata": {},
   "outputs": [
    {
     "data": {
      "text/plain": [
       "Age_Group\n",
       "Adult          248\n",
       "Young          231\n",
       "Young Adult    224\n",
       "Senior         188\n",
       "Name: count, dtype: int64"
      ]
     },
     "execution_count": 32,
     "metadata": {},
     "output_type": "execute_result"
    }
   ],
   "source": [
    "# Count the number of values in each quartile\n",
    "train['Age_Group'].value_counts()"
   ]
  },
  {
   "cell_type": "markdown",
   "metadata": {},
   "source": [
    "#### Categorize Fare Values"
   ]
  },
  {
   "cell_type": "markdown",
   "metadata": {},
   "source": [
    "Goal: To create a new column called Fare_Amount which categorizes passenger fares into reasonably balanced quartiles. Reasonably meaning that each quartile should be somewhat equal in its amount, but importantly still showcases the real distribution of the data as well.\n",
    "\n",
    "Reason: The Machine Learning Algorithms that we will use detect patterns better when the data is balanced, meaning that each Age Group will have a comparable weight within the analysis. Furthermore it simplifies the data. Instead of dealing with continuous values (values which can thoeretically be infintely precise), you can analyze whether being in a particular quartile, range of values, impacts survival probability. Finally, the reason 4 bins were selected instead of for example 10 or 20 bins is because the risk of overfitting grows as the amount of bins grows. We want the bins to be enough for our Machine Learning algorithms to efectively learn a pattern but not so much that the model learns simply the tiny details of our dataset without being able to effectively generalize about new data. 4 bins provides enough granularity to capture broad patterns while also remaining interpretable."
   ]
  },
  {
   "cell_type": "code",
   "execution_count": 33,
   "metadata": {},
   "outputs": [
    {
     "name": "stdout",
     "output_type": "stream",
     "text": [
      "      Fare Fare_Amount\n",
      "0   7.2500         Low\n",
      "1  71.2833   Very High\n",
      "2   7.9250      Medium\n",
      "3  53.1000   Very High\n",
      "4   8.0500      Medium\n"
     ]
    }
   ],
   "source": [
    "# Create quantile-based bins for Fare\n",
    "train['Fare_Amount'] = pd.qcut(train['Fare'], q=4, labels=['Low', 'Medium', 'High', 'Very High'])\n",
    "\n",
    "# Inspect the new column\n",
    "print(train[['Fare', 'Fare_Amount']].head())"
   ]
  },
  {
   "cell_type": "code",
   "execution_count": 34,
   "metadata": {},
   "outputs": [
    {
     "data": {
      "image/png": "[encoded data removed]",
      "text/plain": [
       "<Figure size 640x480 with 1 Axes>"
      ]
     },
     "metadata": {},
     "output_type": "display_data"
    }
   ],
   "source": [
    "# Plot histogram of continuous Fare values\n",
    "plt.hist(train['Fare'].dropna(), bins=30, edgecolor='black', alpha=0.7, label='Fare Distribution')\n",
    "\n",
    "# Add vertical lines for Fare quantile edges (if using quantiles)\n",
    "quantile_edges = train['Fare'].quantile([0.25, 0.5, 0.75]).values\n",
    "for edge in quantile_edges:\n",
    "    plt.axvline(edge, color='red', linestyle='--', label='Quantile Edge')\n",
    "\n",
    "# Customize the plot\n",
    "plt.title('Fare Distribution with Quantile-Based Bins')\n",
    "plt.xlabel('Fare')\n",
    "plt.ylabel('Frequency')\n",
    "plt.legend()\n",
    "plt.show()"
   ]
  },
  {
   "cell_type": "code",
   "execution_count": 35,
   "metadata": {},
   "outputs": [
    {
     "data": {
      "text/plain": [
       "Fare_Amount\n",
       "Medium       224\n",
       "Low          223\n",
       "High         222\n",
       "Very High    222\n",
       "Name: count, dtype: int64"
      ]
     },
     "execution_count": 35,
     "metadata": {},
     "output_type": "execute_result"
    }
   ],
   "source": [
    "train['Fare_Amount'].value_counts()"
   ]
  },
  {
   "cell_type": "markdown",
   "metadata": {},
   "source": [
    "\n",
    "#### Fill missing Embarked values"
   ]
  },
  {
   "cell_type": "code",
   "execution_count": 36,
   "metadata": {},
   "outputs": [
    {
     "data": {
      "text/plain": [
       "0    S\n",
       "Name: Embarked, dtype: object"
      ]
     },
     "execution_count": 36,
     "metadata": {},
     "output_type": "execute_result"
    }
   ],
   "source": [
    "train['Embarked'].mode()"
   ]
  },
  {
   "cell_type": "code",
   "execution_count": 37,
   "metadata": {},
   "outputs": [],
   "source": [
    "train['Embarked'] = train['Embarked'].fillna('S')"
   ]
  },
  {
   "cell_type": "markdown",
   "metadata": {},
   "source": [
    "#### Cabin Letter"
   ]
  },
  {
   "cell_type": "code",
   "execution_count": 38,
   "metadata": {},
   "outputs": [],
   "source": [
    "#Simplified version of the Cabin column to create smaller types of categories of cabins which will be easier to analyze.\n",
    "\n",
    "train['Cabin_Letter'] = train['Cabin'].astype(str).str[0]"
   ]
  },
  {
   "cell_type": "code",
   "execution_count": 39,
   "metadata": {},
   "outputs": [
    {
     "data": {
      "text/plain": [
       "0      N\n",
       "1      C\n",
       "2      N\n",
       "3      C\n",
       "4      N\n",
       "      ..\n",
       "886    N\n",
       "887    B\n",
       "888    N\n",
       "889    C\n",
       "890    N\n",
       "Name: Cabin_Letter, Length: 891, dtype: object"
      ]
     },
     "execution_count": 39,
     "metadata": {},
     "output_type": "execute_result"
    }
   ],
   "source": [
    "train['Cabin_Letter']"
   ]
  },
  {
   "cell_type": "markdown",
   "metadata": {},
   "source": [
    "#### Family Size"
   ]
  },
  {
   "cell_type": "code",
   "execution_count": 40,
   "metadata": {},
   "outputs": [],
   "source": [
    "# Create a new column 'Family_Size' by adding the 'Parch' and 'SibSp' amounts together\n",
    "\n",
    "train['Family_Size'] = train['Parch'] + train['SibSp']"
   ]
  },
  {
   "cell_type": "markdown",
   "metadata": {},
   "source": [
    "#### Family Onboard column"
   ]
  },
  {
   "cell_type": "code",
   "execution_count": 41,
   "metadata": {},
   "outputs": [
    {
     "name": "stdout",
     "output_type": "stream",
     "text": [
      "   Family_Size  Family_Onboard\n",
      "0            1               1\n",
      "1            1               1\n",
      "2            0               0\n",
      "3            1               1\n",
      "4            0               0\n"
     ]
    }
   ],
   "source": [
    "# Define a function to determine Family_Onboard\n",
    "def determine_family_onboard(family_size):\n",
    "    if family_size < 1:\n",
    "        return 0  # No family onboard\n",
    "    else:\n",
    "        return 1  # Family onboard\n",
    "\n",
    "# Apply the function to create the Family_Onboard column\n",
    "train['Family_Onboard'] = train['Family_Size'].apply(determine_family_onboard)\n",
    "\n",
    "# Verify the new column\n",
    "print(train[['Family_Size', 'Family_Onboard']].head())"
   ]
  },
  {
   "cell_type": "markdown",
   "metadata": {},
   "source": [
    "#### Final dataframe"
   ]
  },
  {
   "cell_type": "code",
   "execution_count": 42,
   "metadata": {},
   "outputs": [
    {
     "name": "stdout",
     "output_type": "stream",
     "text": [
      "<class 'pandas.core.frame.DataFrame'>\n",
      "RangeIndex: 891 entries, 0 to 890\n",
      "Data columns (total 22 columns):\n",
      " #   Column          Non-Null Count  Dtype   \n",
      "---  ------          --------------  -----   \n",
      " 0   PassengerId     891 non-null    int64   \n",
      " 1   Survived        891 non-null    int64   \n",
      " 2   Pclass          891 non-null    int64   \n",
      " 3   Name            891 non-null    object  \n",
      " 4   Sex             891 non-null    object  \n",
      " 5   Age             891 non-null    float64 \n",
      " 6   SibSp           891 non-null    int64   \n",
      " 7   Parch           891 non-null    int64   \n",
      " 8   Ticket          891 non-null    object  \n",
      " 9   Fare            891 non-null    float64 \n",
      " 10  Cabin           891 non-null    object  \n",
      " 11  Embarked        891 non-null    object  \n",
      " 12  Ticket_Type     891 non-null    int64   \n",
      " 13  Title           891 non-null    object  \n",
      " 14  Maiden          891 non-null    object  \n",
      " 15  Surname         891 non-null    object  \n",
      " 16  Family          891 non-null    object  \n",
      " 17  Age_Group       891 non-null    category\n",
      " 18  Fare_Amount     891 non-null    category\n",
      " 19  Cabin_Letter    891 non-null    object  \n",
      " 20  Family_Size     891 non-null    int64   \n",
      " 21  Family_Onboard  891 non-null    int64   \n",
      "dtypes: category(2), float64(2), int64(8), object(10)\n",
      "memory usage: 141.5+ KB\n"
     ]
    }
   ],
   "source": [
    "train.info()"
   ]
  },
  {
   "cell_type": "markdown",
   "metadata": {},
   "source": [
    "## Hot Encode Data"
   ]
  },
  {
   "cell_type": "code",
   "execution_count": 43,
   "metadata": {},
   "outputs": [],
   "source": [
    "#Preparing the data analysis. Category columns are converted to a category type and then one-hot encoded.\n",
    "\n",
    "categorical_cols = ['Sex', 'Embarked', 'Title', 'Cabin_Letter', 'Family_Onboard', 'Ticket_Type', 'Age_Group', 'Fare_Amount', 'Parch', 'SibSp', 'Family_Size', 'Family', 'Maiden', 'Surname', 'Age', 'Fare']\n",
    "\n",
    "for col in categorical_cols:\n",
    "    train[col] = train[col].astype('category')\n",
    "    \n",
    "train = pd.get_dummies(train, columns=['Sex', 'Embarked', 'Title', 'Cabin_Letter', 'Ticket_Type', 'Family_Onboard', 'Age_Group', 'Fare_Amount', 'Parch', 'SibSp', 'Family_Size', 'Family', 'Maiden', 'Surname', 'Age', 'Fare'], drop_first=True)"
   ]
  },
  {
   "cell_type": "code",
   "execution_count": 44,
   "metadata": {},
   "outputs": [
    {
     "name": "stdout",
     "output_type": "stream",
     "text": [
      "<class 'pandas.core.frame.DataFrame'>\n",
      "RangeIndex: 891 entries, 0 to 890\n",
      "Columns: 1307 entries, PassengerId to Fare_512.3292\n",
      "dtypes: bool(1301), int64(3), object(3)\n",
      "memory usage: 1.1+ MB\n"
     ]
    }
   ],
   "source": [
    "train.info()"
   ]
  },
  {
   "cell_type": "markdown",
   "metadata": {},
   "source": [
    "## Anaylsis"
   ]
  },
  {
   "cell_type": "code",
   "execution_count": 45,
   "metadata": {},
   "outputs": [],
   "source": [
    "# Loading necessary libraries for the data analysis\n",
    "\n",
    "from sklearn.model_selection import train_test_split\n",
    "\n",
    "from sklearn.linear_model import LogisticRegression\n",
    "\n",
    "from sklearn.metrics import accuracy_score, classification_report\n",
    "\n",
    "from imblearn.over_sampling import SMOTE\n",
    "\n",
    "from sklearn.tree import DecisionTreeClassifier\n",
    "\n",
    "from sklearn.ensemble import RandomForestClassifier\n",
    "\n",
    "from sklearn.ensemble import GradientBoostingClassifier\n",
    "\n",
    "from sklearn.metrics import roc_curve, roc_auc_score\n",
    "\n",
    "from sklearn.svm import SVC\n",
    "\n"
   ]
  },
  {
   "cell_type": "markdown",
   "metadata": {},
   "source": [
    "### Logistic Regression Analysis"
   ]
  },
  {
   "cell_type": "markdown",
   "metadata": {},
   "source": [
    "#### Original Logistic Regression Analysis"
   ]
  },
  {
   "cell_type": "code",
   "execution_count": 46,
   "metadata": {},
   "outputs": [
    {
     "name": "stdout",
     "output_type": "stream",
     "text": [
      "Accuracy: 0.8435754189944135\n",
      "Classification Report:\n",
      "              precision    recall  f1-score   support\n",
      "\n",
      "           0       0.87      0.87      0.87       105\n",
      "           1       0.81      0.81      0.81        74\n",
      "\n",
      "    accuracy                           0.84       179\n",
      "   macro avg       0.84      0.84      0.84       179\n",
      "weighted avg       0.84      0.84      0.84       179\n",
      "\n"
     ]
    }
   ],
   "source": [
    "# Define the features to use for the model\n",
    "features = [col for col in train.columns if col not in ['PassengerId', 'Survived', 'Name', 'Cabin', 'Ticket']]\n",
    "\n",
    "# Select the features and target variable\n",
    "X = train[features]\n",
    "y = train['Survived']\n",
    "\n",
    "# Split the data into training and testing sets\n",
    "X_train, X_test, y_train, y_test = train_test_split(X, y, test_size=0.2, random_state=42)\n",
    "\n",
    "# Initialize and fit the Logistic Regression model\n",
    "model = LogisticRegression(max_iter=1000)\n",
    "model.fit(X_train, y_train)\n",
    "\n",
    "# Make predictions on the test set\n",
    "y_pred = model.predict(X_test)\n",
    "\n",
    "# Evaluate the model\n",
    "accuracy = accuracy_score(y_test, y_pred)\n",
    "report = classification_report(y_test, y_pred)\n",
    "\n",
    "print(f\"Accuracy: {accuracy}\")\n",
    "print(f\"Classification Report:\\n{report}\")"
   ]
  },
  {
   "cell_type": "code",
   "execution_count": 47,
   "metadata": {},
   "outputs": [
    {
     "name": "stderr",
     "output_type": "stream",
     "text": [
      "C:\\Users\\root\\AppData\\Local\\Temp\\ipykernel_7524\\2649806963.py:13: UserWarning: color is redundantly defined by the 'color' keyword argument and the fmt string \"k--\" (-> color='k'). The keyword argument will take precedence.\n",
      "  plt.plot([0, 1], [0, 1], 'k--', label='Random Classifier', color='gray')  # Diagonal reference line\n"
     ]
    },
    {
     "data": {
      "image/png": "[encoded data removed]",
      "text/plain": [
       "<Figure size 800x600 with 1 Axes>"
      ]
     },
     "metadata": {},
     "output_type": "display_data"
    },
    {
     "name": "stdout",
     "output_type": "stream",
     "text": [
      "ROC-AUC Score: 0.8943371943371943\n"
     ]
    }
   ],
   "source": [
    "# Get the predicted probabilities for the positive class (Survived = 1)\n",
    "y_prob = model.predict_proba(X_test)[:, 1]\n",
    "\n",
    "# Calculate the false positive rate (fpr), true positive rate (tpr), and thresholds\n",
    "fpr, tpr, thresholds = roc_curve(y_test, y_prob)\n",
    "\n",
    "# Calculate the ROC-AUC score\n",
    "roc_auc = roc_auc_score(y_test, y_prob)\n",
    "\n",
    "# Plot the ROC curve\n",
    "plt.figure(figsize=(8, 6))\n",
    "plt.plot(fpr, tpr, label=f'ROC Curve (AUC = {roc_auc:.2f})', color='blue', linewidth=2)\n",
    "plt.plot([0, 1], [0, 1], 'k--', label='Random Classifier', color='gray')  # Diagonal reference line\n",
    "plt.xlabel('False Positive Rate')\n",
    "plt.ylabel('True Positive Rate')\n",
    "plt.title('ROC Curve')\n",
    "plt.legend(loc='lower right')\n",
    "plt.grid()\n",
    "plt.show()\n",
    "\n",
    "print(f\"ROC-AUC Score: {roc_auc}\")"
   ]
  },
  {
   "cell_type": "markdown",
   "metadata": {},
   "source": [
    "#### Class-Weighted and SMOTE Logistic Regression Analysis"
   ]
  },
  {
   "cell_type": "code",
   "execution_count": 48,
   "metadata": {},
   "outputs": [
    {
     "name": "stdout",
     "output_type": "stream",
     "text": [
      "Using class_weight='balanced':\n",
      "Accuracy: 0.8379888268156425\n",
      "Classification Report:\n",
      "              precision    recall  f1-score   support\n",
      "\n",
      "           0       0.89      0.83      0.86       105\n",
      "           1       0.78      0.85      0.81        74\n",
      "\n",
      "    accuracy                           0.84       179\n",
      "   macro avg       0.83      0.84      0.84       179\n",
      "weighted avg       0.84      0.84      0.84       179\n",
      "\n",
      "\n",
      "Using SMOTE for oversampling:\n"
     ]
    },
    {
     "name": "stderr",
     "output_type": "stream",
     "text": [
      "c:\\Users\\root\\anaconda3\\Lib\\site-packages\\sklearn\\base.py:474: FutureWarning: `BaseEstimator._validate_data` is deprecated in 1.6 and will be removed in 1.7. Use `sklearn.utils.validation.validate_data` instead. This function becomes public and is part of the scikit-learn developer API.\n",
      "  warnings.warn(\n"
     ]
    },
    {
     "name": "stdout",
     "output_type": "stream",
     "text": [
      "Accuracy: 0.8268156424581006\n",
      "Classification Report:\n",
      "              precision    recall  f1-score   support\n",
      "\n",
      "           0       0.90      0.79      0.84       105\n",
      "           1       0.75      0.88      0.81        74\n",
      "\n",
      "    accuracy                           0.83       179\n",
      "   macro avg       0.82      0.83      0.83       179\n",
      "weighted avg       0.84      0.83      0.83       179\n",
      "\n"
     ]
    }
   ],
   "source": [
    "# Define the features to use for the model\n",
    "features = [col for col in train.columns if col not in ['PassengerId', 'Survived', 'Name', 'Ticket', 'Cabin']]\n",
    "\n",
    "# Select the features and target variable\n",
    "X = train[features]\n",
    "y = train['Survived']\n",
    "\n",
    "# Split the data into training and testing sets\n",
    "X_train, X_test, y_train, y_test = train_test_split(X, y, test_size=0.2, random_state=42)\n",
    "\n",
    "# Option 1: Logistic Regression with class_weight='balanced'\n",
    "print(\"Using class_weight='balanced':\")\n",
    "model_balanced = LogisticRegression(max_iter=1000, class_weight='balanced')\n",
    "model_balanced.fit(X_train, y_train)\n",
    "y_pred_balanced = model_balanced.predict(X_test)\n",
    "\n",
    "# Evaluate the model\n",
    "accuracy_balanced = accuracy_score(y_test, y_pred_balanced)\n",
    "report_balanced = classification_report(y_test, y_pred_balanced)\n",
    "print(f\"Accuracy: {accuracy_balanced}\")\n",
    "print(f\"Classification Report:\\n{report_balanced}\")\n",
    "\n",
    "# Option 2: Logistic Regression with SMOTE\n",
    "print(\"\\nUsing SMOTE for oversampling:\")\n",
    "smote = SMOTE(random_state=42)\n",
    "X_train_smote, y_train_smote = smote.fit_resample(X_train, y_train)\n",
    "\n",
    "model_smote = LogisticRegression(max_iter=1000)\n",
    "model_smote.fit(X_train_smote, y_train_smote)\n",
    "y_pred_smote = model_smote.predict(X_test)\n",
    "\n",
    "# Evaluate the model\n",
    "accuracy_smote = accuracy_score(y_test, y_pred_smote)\n",
    "report_smote = classification_report(y_test, y_pred_smote)\n",
    "print(f\"Accuracy: {accuracy_smote}\")\n",
    "print(f\"Classification Report:\\n{report_smote}\")"
   ]
  },
  {
   "cell_type": "code",
   "execution_count": 49,
   "metadata": {},
   "outputs": [
    {
     "name": "stderr",
     "output_type": "stream",
     "text": [
      "C:\\Users\\root\\AppData\\Local\\Temp\\ipykernel_7524\\929287294.py:15: UserWarning: color is redundantly defined by the 'color' keyword argument and the fmt string \"k--\" (-> color='k'). The keyword argument will take precedence.\n",
      "  plt.plot([0, 1], [0, 1], 'k--', label='Random Classifier', color='gray')  # Diagonal reference line\n"
     ]
    },
    {
     "data": {
      "image/png": "[encoded data removed]",
      "text/plain": [
       "<Figure size 1000x600 with 1 Axes>"
      ]
     },
     "metadata": {},
     "output_type": "display_data"
    }
   ],
   "source": [
    "# ROC-AUC Analysis for class_weight='balanced'\n",
    "y_prob_balanced = model_balanced.predict_proba(X_test)[:, 1]\n",
    "fpr_balanced, tpr_balanced, _ = roc_curve(y_test, y_prob_balanced)\n",
    "roc_auc_balanced = roc_auc_score(y_test, y_prob_balanced)\n",
    "\n",
    "# ROC-AUC Analysis for SMOTE\n",
    "y_prob_smote = model_smote.predict_proba(X_test)[:, 1]\n",
    "fpr_smote, tpr_smote, _ = roc_curve(y_test, y_prob_smote)\n",
    "roc_auc_smote = roc_auc_score(y_test, y_prob_smote)\n",
    "\n",
    "# Plotting the ROC Curves\n",
    "plt.figure(figsize=(10, 6))\n",
    "plt.plot(fpr_balanced, tpr_balanced, label=f'Balanced (AUC = {roc_auc_balanced:.2f})', color='blue', linewidth=2)\n",
    "plt.plot(fpr_smote, tpr_smote, label=f'SMOTE (AUC = {roc_auc_smote:.2f})', color='green', linewidth=2)\n",
    "plt.plot([0, 1], [0, 1], 'k--', label='Random Classifier', color='gray')  # Diagonal reference line\n",
    "plt.xlabel('False Positive Rate')\n",
    "plt.ylabel('True Positive Rate')\n",
    "plt.title('ROC Curves for Logistic Regression Models')\n",
    "plt.legend(loc='lower right')\n",
    "plt.grid()\n",
    "plt.show()"
   ]
  },
  {
   "cell_type": "markdown",
   "metadata": {},
   "source": [
    "#### Logistic Regression Summary"
   ]
  },
  {
   "cell_type": "markdown",
   "metadata": {},
   "source": [
    "1. Logistic Regression\n",
    "    - **Accuracy (0.8436)**: Meaning approximately 84.4% of the test set predictions are correct.\n",
    "    - Precision \n",
    "        - For class 0 (non-survivors): 87%, meaning that 87% of passengers predicted as non-survivors were actually non-survivors.\n",
    "        - For class 1 (survivors): 81%, meaning that 81% of passengers predicted as survivors were actually survivors.\n",
    "    - Recall\n",
    "        - For class 0: 87%, meaning the model correctly identified 87% of the actual non-survivors.\n",
    "        - For class 1: 81%, meaning the model correctly identified 81% of the actual survivors.\n",
    "    - F1 Score\n",
    "        - For class 0 (0.87) is slightly better than for class 1 (0.81), indicating the model is a bit better at predicting non-survivors.\n",
    "    - Support\n",
    "        - There were 105 actual non-survivors and 74 actual survivors in the test set.\n",
    "    - ROC-AUC Score: 0.89 indicates that the model has a very good generalization ability.\n",
    "\n",
    "\n",
    "------------------------------------------------------------------------------------------------------------------------------------------------------------\n",
    "\n",
    "\n",
    "2. Class-Weighted Logistic Regression\n",
    "    - **Accuracy (0.8379)**: Meaning approximately 83.8% of the test set predictions are correct.\n",
    "    - Precision\n",
    "        - For class 0 (non-survivors): 89%, meaning that 89% of passengers predicted as non-survivors were actually non-survivors.\n",
    "        - For class 1 (survivors): 78%, meaning that 78% of passengers predicted as survivors were actually survivors.\n",
    "    - Recall\n",
    "        - For class 0: 83%, meaning the model correctly identified 83% of the actual non-survivors.\n",
    "        - For class 1: 85%, meaning the model correctly identified 85% of the actual survivors.\n",
    "    - F1 Score\n",
    "        - For class 0 (0.84) is slightly better than for class 1 (0.81), indicating the model is still a bit better at predicting non-survivors.\n",
    "    - Support\n",
    "        - There were 105 actual non-survivors and 74 actual survivors in the test set.\n",
    "    - ROC-AUC Score: 0.89 indicates that the model has a very good generalization ability.\n",
    "\n",
    "\n",
    "------------------------------------------------------------------------------------------------------------------------------------------------------------\n",
    "\n",
    "\n",
    "3. SMOTE Logistic Regression\n",
    "    - **Accuracy (0.8268)**: Meaning approximately 82.7% of the test set predictions are correct.\n",
    "    - Precision\n",
    "        - For class 0 (non-survivors): 90%, meaning that 90% of passengers predicted as non-survivors were actually non-survivors.\n",
    "        - For class 1 (survivors): 75%, meaning that 75% of passengers predicted as survivors were actually survivors.\n",
    "    - Recall\n",
    "        - For class 0: 79%, meaning the model correctly identified 79% of the actual non-survivors.\n",
    "        - For class 1: 88%, meaning the model correctly identified 88% of the actual survivors.\n",
    "    - F1 Score\n",
    "        - For class 0 (0.84) is slightly better than for class 1 (0.81), indicating the model is a bit better at predicting non-survivors.\n",
    "    - Support\n",
    "        - There were once more 105 actual non-survivors and 74 actual survivors in the test set.\n",
    "    - ROC-AUC Score: 0.89 indicates that the model has a very good generalization ability. This score is impressively tied for the highest score held by the Original Logisitic Regression model.\n",
    "\n"
   ]
  },
  {
   "cell_type": "markdown",
   "metadata": {},
   "source": [
    "### Decision Tree Analysis"
   ]
  },
  {
   "cell_type": "code",
   "execution_count": 50,
   "metadata": {},
   "outputs": [
    {
     "name": "stdout",
     "output_type": "stream",
     "text": [
      "Decision Tree Accuracy: 0.8324022346368715\n",
      "Decision Tree Classification Report:\n",
      "              precision    recall  f1-score   support\n",
      "\n",
      "           0       0.86      0.85      0.86       105\n",
      "           1       0.79      0.81      0.80        74\n",
      "\n",
      "    accuracy                           0.83       179\n",
      "   macro avg       0.83      0.83      0.83       179\n",
      "weighted avg       0.83      0.83      0.83       179\n",
      "\n"
     ]
    }
   ],
   "source": [
    "# Initialize and fit the Decision Tree model\n",
    "dt_model = DecisionTreeClassifier(random_state=42)\n",
    "dt_model.fit(X_train, y_train)\n",
    "\n",
    "# Make predictions on the test set\n",
    "dt_y_pred = dt_model.predict(X_test)\n",
    "\n",
    "# Evaluate the model\n",
    "dt_accuracy = accuracy_score(y_test, dt_y_pred)\n",
    "dt_report = classification_report(y_test, dt_y_pred)\n",
    "\n",
    "print(f\"Decision Tree Accuracy: {dt_accuracy}\")\n",
    "print(f\"Decision Tree Classification Report:\\n{dt_report}\")"
   ]
  },
  {
   "cell_type": "code",
   "execution_count": 51,
   "metadata": {},
   "outputs": [
    {
     "name": "stderr",
     "output_type": "stream",
     "text": [
      "C:\\Users\\root\\AppData\\Local\\Temp\\ipykernel_7524\\596541270.py:13: UserWarning: color is redundantly defined by the 'color' keyword argument and the fmt string \"k--\" (-> color='k'). The keyword argument will take precedence.\n",
      "  plt.plot([0, 1], [0, 1], 'k--', label='Random Classifier', color='gray')  # Diagonal reference line\n"
     ]
    },
    {
     "data": {
      "image/png": "[encoded data removed]",
      "text/plain": [
       "<Figure size 800x600 with 1 Axes>"
      ]
     },
     "metadata": {},
     "output_type": "display_data"
    },
    {
     "name": "stdout",
     "output_type": "stream",
     "text": [
      "ROC-AUC Score: 0.8349420849420849\n"
     ]
    }
   ],
   "source": [
    "# Get the predicted probabilities for the positive class (Survived = 1)\n",
    "dt_y_prob = dt_model.predict_proba(X_test)[:, 1]\n",
    "\n",
    "# Calculate the false positive rate (fpr), true positive rate (tpr), and thresholds\n",
    "dt_fpr, dt_tpr, dt_thresholds = roc_curve(y_test, dt_y_prob)\n",
    "\n",
    "# Calculate the ROC-AUC score\n",
    "dt_roc_auc = roc_auc_score(y_test, dt_y_prob)\n",
    "\n",
    "# Plot the ROC curve\n",
    "plt.figure(figsize=(8, 6))\n",
    "plt.plot(dt_fpr, dt_tpr, label=f'Decision Tree (AUC = {dt_roc_auc:.2f})', color='orange', linewidth=2)\n",
    "plt.plot([0, 1], [0, 1], 'k--', label='Random Classifier', color='gray')  # Diagonal reference line\n",
    "plt.xlabel('False Positive Rate')\n",
    "plt.ylabel('True Positive Rate')\n",
    "plt.title('ROC Curve for Decision Tree Model')\n",
    "plt.legend(loc='lower right')\n",
    "plt.grid()\n",
    "plt.show()\n",
    "\n",
    "print(f\"ROC-AUC Score: {dt_roc_auc}\")"
   ]
  },
  {
   "cell_type": "markdown",
   "metadata": {},
   "source": [
    "#### Decision Tree Summary"
   ]
  },
  {
   "cell_type": "markdown",
   "metadata": {},
   "source": [
    "4. Decision Tree Analysis\n",
    "    - **Accuracy (0.8324)**: Meaning approximately 83% of the test set predictions are correct.\n",
    "    - Precision\n",
    "        - For class 0 (non-survivors): 86%, meaning that 86% of passengers predicted as non-survivors were actually non-survivors.\n",
    "        - For class 1 (survivors): 79%, meaning that 79% of passengers predicted as survivors were actually survivors.\n",
    "    - Recall\n",
    "        - For class 0: 85%, meaning the model correctly identified 85% of the actual non-survivors.\n",
    "        - For class 1: 81%, meaning the model correctly identified 81% of the actual survivors.\n",
    "    - F1 Score\n",
    "        - For class 0 (0.86) is slightly better than for class 1 (0.80), indicating the model is a bit better at predicting non-survivors.\n",
    "    - Support\n",
    "        - There were 105 actual non-survivors and 74 actual survivors in the test set.\n",
    "    - ROC-AUC Score: 83%, which is significantly lower than the Logisitic Regression models. This suggests that the Decision Tree model is performing at a lower level in comparison to the Logisitc Regression models. The shape of the curve is also much more different indicating possible overfitting.\n"
   ]
  },
  {
   "cell_type": "markdown",
   "metadata": {},
   "source": [
    "### Random Forest Analysis"
   ]
  },
  {
   "cell_type": "code",
   "execution_count": 52,
   "metadata": {},
   "outputs": [
    {
     "name": "stdout",
     "output_type": "stream",
     "text": [
      "Random Forest Accuracy: 0.8156424581005587\n",
      "Random Forest Classification Report:\n",
      "              precision    recall  f1-score   support\n",
      "\n",
      "           0       0.83      0.86      0.85       105\n",
      "           1       0.79      0.76      0.77        74\n",
      "\n",
      "    accuracy                           0.82       179\n",
      "   macro avg       0.81      0.81      0.81       179\n",
      "weighted avg       0.81      0.82      0.82       179\n",
      "\n"
     ]
    }
   ],
   "source": [
    "# Initialize and fit the Random Forest model\n",
    "rf_model = RandomForestClassifier(random_state=42)\n",
    "rf_model.fit(X_train, y_train)\n",
    "\n",
    "# Make predictions on the test set\n",
    "rf_y_pred = rf_model.predict(X_test)\n",
    "\n",
    "# Evaluate the model\n",
    "rf_accuracy = accuracy_score(y_test, rf_y_pred)\n",
    "rf_report = classification_report(y_test, rf_y_pred)\n",
    "\n",
    "print(f\"Random Forest Accuracy: {rf_accuracy}\")\n",
    "print(f\"Random Forest Classification Report:\\n{rf_report}\")"
   ]
  },
  {
   "cell_type": "code",
   "execution_count": 53,
   "metadata": {},
   "outputs": [
    {
     "name": "stderr",
     "output_type": "stream",
     "text": [
      "C:\\Users\\root\\AppData\\Local\\Temp\\ipykernel_7524\\2735305438.py:13: UserWarning: color is redundantly defined by the 'color' keyword argument and the fmt string \"k--\" (-> color='k'). The keyword argument will take precedence.\n",
      "  plt.plot([0, 1], [0, 1], 'k--', label='Random Classifier', color='gray')  # Diagonal reference line\n"
     ]
    },
    {
     "data": {
      "image/png": "[encoded data removed]",
      "text/plain": [
       "<Figure size 800x600 with 1 Axes>"
      ]
     },
     "metadata": {},
     "output_type": "display_data"
    },
    {
     "name": "stdout",
     "output_type": "stream",
     "text": [
      "ROC-AUC Score: 0.8907979407979408\n"
     ]
    }
   ],
   "source": [
    "# Get the predicted probabilities for the positive class (Survived = 1)\n",
    "rf_y_prob = rf_model.predict_proba(X_test)[:, 1]\n",
    "\n",
    "# Calculate the false positive rate (fpr), true positive rate (tpr), and thresholds\n",
    "rf_fpr, rf_tpr, rf_thresholds = roc_curve(y_test, rf_y_prob)\n",
    "\n",
    "# Calculate the ROC-AUC score\n",
    "rf_roc_auc = roc_auc_score(y_test, rf_y_prob)\n",
    "\n",
    "# Plot the ROC curve\n",
    "plt.figure(figsize=(8, 6))\n",
    "plt.plot(rf_fpr, rf_tpr, label=f'Random Forest (AUC = {rf_roc_auc:.2f})', color='green', linewidth=2)\n",
    "plt.plot([0, 1], [0, 1], 'k--', label='Random Classifier', color='gray')  # Diagonal reference line\n",
    "plt.xlabel('False Positive Rate')\n",
    "plt.ylabel('True Positive Rate')\n",
    "plt.title('ROC Curve for Random Forest Model')\n",
    "plt.legend(loc='lower right')\n",
    "plt.grid()\n",
    "plt.show()\n",
    "\n",
    "print(f\"ROC-AUC Score: {rf_roc_auc}\")"
   ]
  },
  {
   "cell_type": "markdown",
   "metadata": {},
   "source": [
    "#### Random Forest Summary"
   ]
  },
  {
   "cell_type": "markdown",
   "metadata": {},
   "source": [
    "5. Random Forest Analysis\n",
    "    - **Accuracy (0.8156)**: Meaning approximately 81.6% of the test set predictions are correct.\n",
    "    - Precision\n",
    "        - For class 0 (non-survivors): 83%, meaning that 83% of passengers predicted as non-survivors were actually non-survivors.\n",
    "        - For class 1 (survivors): 79%, meaning that 79% of passengers predicted as survivors were actually survivors.\n",
    "    - Recall\n",
    "        - For class 0: 86%, meaning the model correctly identified 86% of the actual non-survivors.\n",
    "        - For class 1: 76%, meaning the model correctly identified 76% of the actual survivors.\n",
    "    - F1 Score\n",
    "        - For class 0 (0.85) is slightly better than for class 1 (0.77), indicating the model is a bit better at predicting non-survivors.\n",
    "    - Support\n",
    "        - There were 105 actual non-survivors and 74 actual survivors in the test set.\n",
    "    - ROC-AUC Score: 89%, which is marginally lower than the Logisitic Regression models. This suggests that the Random Forest model is performing at close to the same level as the Logistic Regression models."
   ]
  },
  {
   "cell_type": "markdown",
   "metadata": {},
   "source": [
    "### Gradient Boosting Analysis"
   ]
  },
  {
   "cell_type": "code",
   "execution_count": 54,
   "metadata": {},
   "outputs": [
    {
     "name": "stdout",
     "output_type": "stream",
     "text": [
      "Gradient Boosting Accuracy: 0.8156424581005587\n",
      "Gradient Boosting Classification Report:\n",
      "              precision    recall  f1-score   support\n",
      "\n",
      "           0       0.82      0.89      0.85       105\n",
      "           1       0.82      0.72      0.76        74\n",
      "\n",
      "    accuracy                           0.82       179\n",
      "   macro avg       0.82      0.80      0.81       179\n",
      "weighted avg       0.82      0.82      0.81       179\n",
      "\n"
     ]
    }
   ],
   "source": [
    "# Initialize and fit the Gradient Boosting model\n",
    "gb_model = GradientBoostingClassifier(random_state=42)\n",
    "gb_model.fit(X_train, y_train)\n",
    "\n",
    "# Make predictions on the test set\n",
    "gb_y_pred = gb_model.predict(X_test)\n",
    "\n",
    "# Evaluate the model\n",
    "gb_accuracy = accuracy_score(y_test, gb_y_pred)\n",
    "gb_report = classification_report(y_test, gb_y_pred)\n",
    "\n",
    "print(f\"Gradient Boosting Accuracy: {gb_accuracy}\")\n",
    "print(f\"Gradient Boosting Classification Report:\\n{gb_report}\")"
   ]
  },
  {
   "cell_type": "code",
   "execution_count": 55,
   "metadata": {},
   "outputs": [
    {
     "data": {
      "image/png": "[encoded data removed]",
      "text/plain": [
       "<Figure size 800x600 with 1 Axes>"
      ]
     },
     "metadata": {},
     "output_type": "display_data"
    }
   ],
   "source": [
    "# Predict probabilities for the positive class\n",
    "y_probs = gb_model.predict_proba(X_test)[:, 1]  # Use [:, 1] for the positive class probabilities\n",
    "\n",
    "# Compute ROC curve and AUC\n",
    "fpr, tpr, thresholds = roc_curve(y_test, y_probs)\n",
    "auc = roc_auc_score(y_test, y_probs)\n",
    "\n",
    "# Plot the ROC curve\n",
    "plt.figure(figsize=(8, 6))\n",
    "plt.plot(fpr, tpr, color='blue', label=f'ROC Curve (AUC = {auc:.2f})')\n",
    "plt.plot([0, 1], [0, 1], color='gray', linestyle='--', label='Random Chance')\n",
    "plt.xlabel('False Positive Rate (FPR)')\n",
    "plt.ylabel('True Positive Rate (TPR)')\n",
    "plt.title('ROC Curve')\n",
    "plt.legend()\n",
    "plt.grid()\n",
    "plt.show()"
   ]
  },
  {
   "cell_type": "markdown",
   "metadata": {},
   "source": [
    "#### Gradient Boosting Summary "
   ]
  },
  {
   "cell_type": "markdown",
   "metadata": {},
   "source": [
    "6. Gradient Boosting Analysis\n",
    "    - **Accuracy (0.8156)**: Meaning approximately 81.6% of the test set predictions are correct.\n",
    "    - Precision\n",
    "        - For class 0 (non-survivors): 82%, meaning that 82% of passengers predicted as non-survivors were actually non-survivors.\n",
    "        - For class 1 (survivors): 82%, meaning that 82% of passengers predicted as survivors were actually survivors.\n",
    "    - Recall\n",
    "        - For class 0: 89%, meaning the model correctly identified 89% of the actual non-survivors.\n",
    "        - For class 1: 72%, meaning the model correctly identified 72% of the actual survivors.\n",
    "    - F1 Score\n",
    "        - For class 0 (0.85) is slightly better than for class 1 (0.76), indicating the model is a bit better at predicting non-survivors.\n",
    "    - Support\n",
    "        - There were 105 actual non-survivors and 74 actual survivors in the test set.\n",
    "    - ROC-AUC Score: 0.88, which is very close to the Logisitic Regression model's scores mentioned previously. This suggests that the Gradient Boosting model is performing a simlar, but also slightly worse level than the Logisitic Regression models."
   ]
  },
  {
   "cell_type": "markdown",
   "metadata": {},
   "source": [
    "### Support Vector Machine"
   ]
  },
  {
   "cell_type": "code",
   "execution_count": 60,
   "metadata": {},
   "outputs": [
    {
     "name": "stdout",
     "output_type": "stream",
     "text": [
      "SVM Accuracy: 0.8379888268156425\n",
      "SVM Classification Report:\n",
      "              precision    recall  f1-score   support\n",
      "\n",
      "           0       0.83      0.86      0.85       105\n",
      "           1       0.79      0.76      0.77        74\n",
      "\n",
      "    accuracy                           0.82       179\n",
      "   macro avg       0.81      0.81      0.81       179\n",
      "weighted avg       0.81      0.82      0.82       179\n",
      "\n"
     ]
    }
   ],
   "source": [
    "from sklearn.svm import SVC\n",
    "\n",
    "svm_model = SVC(kernel='rbf', probability=True, random_state=42)\n",
    "svm_model.fit(X_train, y_train)\n",
    "\n",
    "y_pred = svm_model.predict(X_test)\n",
    "\n",
    "accuracy = accuracy_score(y_test, y_pred)\n",
    "print(f\"SVM Accuracy: {accuracy}\")\n",
    "print(f\"SVM Classification Report:\\n{rf_report}\")"
   ]
  },
  {
   "cell_type": "code",
   "execution_count": 59,
   "metadata": {},
   "outputs": [
    {
     "data": {
      "image/png": "[encoded data removed]",
      "text/plain": [
       "<Figure size 640x480 with 1 Axes>"
      ]
     },
     "metadata": {},
     "output_type": "display_data"
    }
   ],
   "source": [
    "from sklearn.metrics import auc\n",
    "\n",
    "# Get the probability estimates for the positive class\n",
    "y_prob = svm_model.predict_proba(X_test)[:, 1]\n",
    "\n",
    "# Compute ROC curve and AUC\n",
    "fpr, tpr, thresholds = roc_curve(y_test, y_prob)\n",
    "roc_auc = auc(fpr, tpr)\n",
    "\n",
    "# Plot the ROC curve\n",
    "plt.figure()\n",
    "plt.plot(fpr, tpr, color='blue', lw=2, label=f'ROC Curve (AUC = {roc_auc:.2f})')\n",
    "plt.plot([0, 1], [0, 1], color='gray', linestyle='--')  # Diagonal reference line\n",
    "plt.xlabel('False Positive Rate')\n",
    "plt.ylabel('True Positive Rate')\n",
    "plt.title('Receiver Operating Characteristic (ROC) Curve')\n",
    "plt.legend(loc='lower right')\n",
    "plt.grid()\n",
    "plt.show()"
   ]
  },
  {
   "cell_type": "markdown",
   "metadata": {},
   "source": [
    "#### Support Vector Machine Summary"
   ]
  },
  {
   "cell_type": "markdown",
   "metadata": {},
   "source": [
    "6. Support Vector Machine Analysis\n",
    "    - **Accuracy (0.8379)**: Meaning approximately 83.8% of the test set predictions are correct.\n",
    "    - Precision\n",
    "        - For class 0 (non-survivors): 83%, meaning that 83% of passengers predicted as non-survivors were actually non-survivors.\n",
    "        - For class 1 (survivors): 79%, meaning that 79% of passengers predicted as survivors were actually survivors.\n",
    "    - Recall\n",
    "        - For class 0: 86%, meaning the model correctly identified 86% of the actual non-survivors.\n",
    "        - For class 1: 76%, meaning the model correctly identified 76% of the actual survivors.\n",
    "    - F1 Score\n",
    "        - For class 0 (0.85) is slightly better than for class 1 (0.77), indicating the model is a bit better at predicting non-survivors.\n",
    "    - Support\n",
    "        - There were 105 actual non-survivors and 74 actual survivors in the test set.\n",
    "    - ROC-AUC Score: 0.89, which is very close to the Logisitic Regression model's scores mentioned previously. This suggests that the Gradient Boosting model is performing a simlar, but also slightly worse level than the Logisitic Regression models."
   ]
  },
  {
   "cell_type": "markdown",
   "metadata": {},
   "source": [
    "## Conclusion"
   ]
  },
  {
   "cell_type": "markdown",
   "metadata": {},
   "source": [
    "The Original Logisitic Regression Model achieved the highest overall Accuracy Score, however the Class-Weighted Logistic Regression model stood out for its fairness between both classes and overall high accuracy. This makes the Class-Weighted Model more suitable for scenarios where balance is critical. On the other hand, SMOTE and Gradient Boosting also provided alternative approaches for improving minority class performance, though with trade-offs in recall or precision.\n",
    "\n",
    "For models like Decision Trees and Random Forests, further hyperparameter tuning or the use of ensemble techniques (e.g., bagging or boosting) could enhance their performance. The Gradient Boosting model, while slightly less accurate overall, might also excel with refined parameters like learning rate or tree depth.\n",
    "\n",
    "The ROC curve for all models, except the Decision Tree Analysis, showed a similar shape. This indicates that those models were not overfitting. These models all had score between 0.90 and 0.88 which are very good. This means that these models were able to effectively distinguish between positive and negative classes (survivors and non-survivors). However, the Decision Tree model appeared to lag behind in this respect."
   ]
  }
 ],
 "metadata": {
  "kernelspec": {
   "display_name": "base",
   "language": "python",
   "name": "python3"
  },
  "language_info": {
   "codemirror_mode": {
    "name": "ipython",
    "version": 3
   },
   "file_extension": ".py",
   "mimetype": "text/x-python",
   "name": "python",
   "nbconvert_exporter": "python",
   "pygments_lexer": "ipython3",
   "version": "3.12.7"
  }
 },
 "nbformat": 4,
 "nbformat_minor": 2
}
